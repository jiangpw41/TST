{
 "cells": [
  {
   "cell_type": "code",
   "execution_count": 1,
   "metadata": {},
   "outputs": [
    {
     "name": "stderr",
     "output_type": "stream",
     "text": [
      "/home/jiangpeiwen2/jiangpeiwen2/miniconda3/envs/llamaindex/lib/python3.10/site-packages/tqdm/auto.py:21: TqdmWarning: IProgress not found. Please update jupyter and ipywidgets. See https://ipywidgets.readthedocs.io/en/stable/user_install.html\n",
      "  from .autonotebook import tqdm as notebook_tqdm\n"
     ]
    },
    {
     "name": "stdout",
     "output_type": "stream",
     "text": [
      "LLM is explicitly disabled. Using MockLLM.\n"
     ]
    }
   ],
   "source": [
    "import sys\n",
    "import os\n",
    "_ROOTR_PATH = \"/home/jiangpeiwen2/jiangpeiwen2/TKGT\"\n",
    "sys.path.insert(0, _ROOTR_PATH)\n",
    "\n",
    "from Hybird_RAG.retriever.retrieve_hybrid import CPL_Hybrid_Retriever"
   ]
  },
  {
   "cell_type": "code",
   "execution_count": 2,
   "metadata": {},
   "outputs": [],
   "source": [
    "texts = CPL_Hybrid_Retriever.cpl_batch_process( \"test\")\n",
    "text = texts[0]"
   ]
  },
  {
   "cell_type": "code",
   "execution_count": 3,
   "metadata": {},
   "outputs": [
    {
     "data": {
      "text/plain": [
       "{'原告': ['原告贾瑞起向本院提出诉讼请求：判令两被告归还原告借款本金256,000元。事实和理由：被告因公司资金周转紧张，于2013年5月31日向原告借款50万元，当时双方未签订书面借款协议，也没有就借款偿还时间进行约定。2015年底，原告要求被告偿还前述借款，被告表示暂无偿还能力，经双方协商，原、被告于2015年12月3日补签了借款协议，将借款时间重新约定为2015年12月3日至2016年5月31日，同时被告出具了借据，明确表示已于2013年5月31日收到前述50万元借款。其中244,000元被告在到期日之前用其他费用进行了冲抵，双方确认欠款256,000元。借款到期后，原告多次向被告催讨，被告却拒不偿还，严重损害了原告的合法权益，原告故起诉至法院。'],\n",
       " '被告': ['被告李安新、汪少敏共同辩称，不同意原告的诉请。被告李安新与原告并没有民间借贷的法律关系，原告提起诉请的法律关系并非事实。实际上，原告及其公司上海甄相电子商务有限公司（以下简称甄相公司）与被告李安新及其公司上海信念货物运输代理有限公司（以下简称信念公司）存在联营合同的法律关系，而本案原告诉称的借款纠纷实际是双方联营合同履行过程中产生的纠纷所涉款项，故本案的基础法律关系应当为联营合同纠纷，并非原告和被告李安新之间的借款纠纷，原、被告从未有借款之合意，原告诉请缺乏事实基础。被告汪少敏是被告李安新的妻子，被告李安新与原告之间没有民间借贷法律关系，被告汪少敏自然无需承担不存在的债务。虽然双方之间的联营合同纠纷并非本案的审理范围，但被告愿意配合法院查明事实，即使原告诉请256,000元之款项为合同履行过程中所欠款项，也并非真实存在，实际上原告还欠被告李安新联营款项，被告李安新会保留诉权。'],\n",
       " '法院': ['经审理查明，原告贾瑞起因生意往来，与被告李安新相识。被告李安新与被告汪少敏系夫妻关系，双方于2006年7月27日登记结婚。',\n",
       "  '2013年5月27日，被告李安新（甲方）与原告（乙方）签订了《合作经营协议书》一份，约定：双方共同合作投资经营韵达快递一次性在总公司买断区域揽收和派件经营权；此区域买断经营权费200万元整，过户所得税35万元；乙方出资给甲方50万元，甲方出资185万元；乙方两年内发出的所有快件（不限量）按照总公司内部价格结算，甲方给乙方韵达结算账号和密码，甲方不加任何费用，乙方自购面单价格每张2.10元，乙方所发出每票快件甲方收取0.70元；本合作项目期限为5年；甲方负责所有经营管理，乙方不参入公司任何管理；合作经营的利润分配方式为：乙方投资的本金甲方分3年归还乙方所有本金；第一年甲方归还乙方10万元，第二年甲方归还乙方20万元，第三年甲方归还乙方2万元，第三、四、五年甲方按规定每年支付给乙方15万元；合同期满5年后，甲方继续经营，利润按照以上利润支付给乙方，如甲方不再经营此区域韵达，甲方将此区域韵达经营权转让给第三方，转让总金额甲方支付给乙方15%区域增值金额；合作经营的亏损分担方式为：如经营中亏损归甲方全部承担，乙方不承担任何亏损；协议另对其他事项进行了约定。',\n",
       "  '2013年5月31日，原告向被告李安新付款50万元。',\n",
       "  '嗣后，甄相公司与信念公司之间发生业务往来，并产生了面单费用。',\n",
       "  '2015年12月3日，原告作为出借人与作为借款人的被告李安新签订了《借款协议》一份，约定：为了明确责任，恪守信用，在双方自愿、协商情况下特签订本合同以资共同信守；借款金额50万元整；借款用途为借款人因公司资金周转需要；借款期限自2015年12月3日起至2016年5月31日止；协议另对其他事项进行了约定。同日，被告李安新出具了借据，载明：今借到贾瑞起50万元整（本金），借款期限自2015年12月3日起至2016年5月31日止，注：此款于2013年5月31日收到。',\n",
       "  '2016年4月13日，经结算，被告李安新出具声明一份，内容为：“因欠贾瑞起人民币贰拾伍万陆仟元整（￥256,000.00），本人自愿将宝马3xxxl白色车辆抵押给贾瑞起，本人在30天内将欠贾瑞起￥256,000.00元还清，贾瑞起将车辆归还给我，如30天未归还，车辆由贾瑞起处置，车架号：LXXXXXXXXXXXXXXX6。”之后，被告李安新将该车辆交付原告使用，后收回。该车辆登记所有人为被告汪少敏。',\n",
       "  '以上事实，由原告提供的《借款协议》、借据、声明、转账凭证、婚姻登记记录证明，两被告提供的《合作经营协议书》、账确认单以及双方当事人的陈述等证据所证实。',\n",
       "  '本院认为，原告贾瑞起与被告李安新之间最初签订《合作经营协议书》，原告所付款项50万元虽名为投资款，但根据该协议书约定，原告有权收回所付款项，并确保获得相对明确的收益，且不参与公司的任何管理，不承担任何亏损，双方的行为和资金往来更符合借贷的特征。特别是，被告李安新嗣后与原告签订《借款协议》并出具借据，将原告所付50万元款项进一步明确为借款，故双方形成的是借贷关系。现原告以借贷关系为基础起诉主张相关权利，具有事实和法律依据，应予支持。被告李安新作为借款人，理应按照约定及时履行还款义务。关于欠款金额，被告李安新在与原告结算后出具声明，确认尚欠原告256,000元，结合双方的陈述，该数额系借款50万元扣除了有关费用后的余额，而被告李安新在收到50万元后并未向原告还款，其出具声明后也未向原告还款，故原告主张还款金额为256,000元，依据充分，本院予以支持。关于被告汪少敏应否承担还款责任的问题，由于系争借款发生于两被告婚姻关系存续期间，被告李安新与原告之间并未约定该借款为被告李安新的个人债务，而两被告并非实行夫妻财产分别制，故该借款原则上应认定为夫妻共同债务。加之被告李安新在出具声明后，将被告汪少敏名下的车辆实际交付原告使用，也说明该借款并非没有取得夫妻合意或用于家庭生活，故系争借款应按夫妻共同债务处理，被告汪少敏负有共同清偿义务。据此，依照《中华人民共和国合同法》第一百九十六条、第二百零六条、《最高人民法院关于适用若干问题的解释（二）》第二十四条规定，判决如下：',\n",
       "  '被告李安新、汪少敏于本判决生效之日起十日内归还原告贾瑞起借款256,000元。',\n",
       "  '如果未按本判决指定的期间履行给付金钱义务，应当依照《中华人民共和国民事诉讼法》第二百五十三条规定，加倍支付迟延履行期间的债务利息。']}"
      ]
     },
     "execution_count": 3,
     "metadata": {},
     "output_type": "execute_result"
    }
   ],
   "source": [
    "text"
   ]
  },
  {
   "cell_type": "code",
   "execution_count": 4,
   "metadata": {},
   "outputs": [
    {
     "name": "stderr",
     "output_type": "stream",
     "text": [
      "Building prefix dict from the default dictionary ...\n",
      "Loading model from cache /tmp/jieba.cache\n",
      "Loading model cost 0.637 seconds.\n",
      "Prefix dict has been built successfully.\n",
      "The tokenizer parameter is deprecated and will be removed in a future release. Use a stemmer from PyStemmer instead.\n",
      "2024-11-06 14:20:28,023 - modelscope - WARNING - Model revision not specified, use revision: v0.0.1\n",
      "Downloading [.idea/bge-reranker-base.iml]: 100%|██████████| 284/284 [00:00<00:00, 664B/s]\n",
      "Downloading [config.json]: 100%|██████████| 799/799 [00:00<00:00, 2.06kB/s]\n",
      "Downloading [configuration.json]: 100%|██████████| 52.0/52.0 [00:00<00:00, 105B/s]\n",
      "Downloading [.idea/misc.xml]: 100%|██████████| 185/185 [00:00<00:00, 601B/s]\n",
      "Downloading [model.safetensors]: 100%|██████████| 1.04G/1.04G [00:19<00:00, 57.3MB/s]\n",
      "Downloading [.idea/modules.xml]: 100%|██████████| 286/286 [00:00<00:00, 872B/s]\n",
      "Downloading [.idea/inspectionProfiles/profiles_settings.xml]: 100%|██████████| 174/174 [00:00<00:00, 615B/s]\n",
      "Downloading [.idea/inspectionProfiles/Project_Default.xml]: 100%|██████████| 1.55k/1.55k [00:00<00:00, 5.20kB/s]\n",
      "Downloading [README.md]: 100%|██████████| 1.14k/1.14k [00:00<00:00, 2.35kB/s]\n",
      "Downloading [sentencepiece.bpe.model]: 100%|██████████| 4.83M/4.83M [00:00<00:00, 8.76MB/s]\n",
      "Downloading [special_tokens_map.json]: 100%|██████████| 279/279 [00:00<00:00, 721B/s]\n",
      "Downloading [tokenizer_config.json]: 100%|██████████| 443/443 [00:00<00:00, 1.54kB/s]\n",
      "Downloading [.idea/vcs.xml]: 100%|██████████| 167/167 [00:00<00:00, 407B/s]\n"
     ]
    },
    {
     "ename": "AssertionError",
     "evalue": "Attribute pipeline is missing from configuration.json. ",
     "output_type": "error",
     "traceback": [
      "\u001b[0;31m---------------------------------------------------------------------------\u001b[0m",
      "\u001b[0;31mAssertionError\u001b[0m                            Traceback (most recent call last)",
      "Cell \u001b[0;32mIn[4], line 1\u001b[0m\n\u001b[0;32m----> 1\u001b[0m hybrid_retriever_0 \u001b[38;5;241m=\u001b[39m \u001b[43mCPL_Hybrid_Retriever\u001b[49m\u001b[43m(\u001b[49m\u001b[43m \u001b[49m\u001b[43mtext\u001b[49m\u001b[43m,\u001b[49m\u001b[43m \u001b[49m\u001b[38;5;124;43m\"\u001b[39;49m\u001b[38;5;124;43mmoney\u001b[39;49m\u001b[38;5;124;43m\"\u001b[39;49m\u001b[43m \u001b[49m\u001b[43m)\u001b[49m\n",
      "File \u001b[0;32m~/jiangpeiwen2/TKGT/Hybird_RAG/retriever/retrieve_hybrid.py:92\u001b[0m, in \u001b[0;36mCPL_Hybrid_Retriever.__init__\u001b[0;34m(self, ruled_text, attr_type, max_ratio, ban_list, topk, score)\u001b[0m\n\u001b[1;32m     89\u001b[0m \u001b[38;5;28mself\u001b[39m\u001b[38;5;241m.\u001b[39mllamaindex_bm25_retriever \u001b[38;5;241m=\u001b[39m Llamaindex_BM25_Retriever( vector_index)\n\u001b[1;32m     91\u001b[0m \u001b[38;5;66;03m# rerank\u001b[39;00m\n\u001b[0;32m---> 92\u001b[0m \u001b[38;5;28mself\u001b[39m\u001b[38;5;241m.\u001b[39mreranker \u001b[38;5;241m=\u001b[39m \u001b[43mpipeline\u001b[49m\u001b[43m(\u001b[49m\u001b[43mtask\u001b[49m\u001b[38;5;241;43m=\u001b[39;49m\u001b[43mTasks\u001b[49m\u001b[38;5;241;43m.\u001b[39;49m\u001b[43mtext_ranking\u001b[49m\u001b[43m,\u001b[49m\u001b[43m \u001b[49m\u001b[43mmodel\u001b[49m\u001b[38;5;241;43m=\u001b[39;49m\u001b[38;5;124;43m'\u001b[39;49m\u001b[38;5;124;43mXorbits/bge-reranker-base\u001b[39;49m\u001b[38;5;124;43m'\u001b[39;49m\u001b[43m)\u001b[49m  \u001b[38;5;66;03m# , model_revision='v1.1.0'\u001b[39;00m\n\u001b[1;32m     93\u001b[0m \u001b[38;5;66;03m# 检索结果：为了更好控制分为两部分\u001b[39;00m\n\u001b[1;32m     94\u001b[0m \u001b[38;5;28mself\u001b[39m\u001b[38;5;241m.\u001b[39mauto_results_list \u001b[38;5;241m=\u001b[39m \u001b[38;5;28;01mNone\u001b[39;00m\n",
      "File \u001b[0;32m~/jiangpeiwen2/miniconda3/envs/llamaindex/lib/python3.10/site-packages/modelscope/pipelines/builder.py:142\u001b[0m, in \u001b[0;36mpipeline\u001b[0;34m(task, model, preprocessor, config_file, pipeline_name, framework, device, model_revision, ignore_file_pattern, **kwargs)\u001b[0m\n\u001b[1;32m    140\u001b[0m             pipeline_props \u001b[38;5;241m=\u001b[39m {\u001b[38;5;124m'\u001b[39m\u001b[38;5;124mtype\u001b[39m\u001b[38;5;124m'\u001b[39m: pipeline_name}\n\u001b[1;32m    141\u001b[0m         \u001b[38;5;28;01melse\u001b[39;00m:\n\u001b[0;32m--> 142\u001b[0m             \u001b[43mcheck_config\u001b[49m\u001b[43m(\u001b[49m\u001b[43mcfg\u001b[49m\u001b[43m)\u001b[49m\n\u001b[1;32m    143\u001b[0m             pipeline_props \u001b[38;5;241m=\u001b[39m cfg\u001b[38;5;241m.\u001b[39mpipeline\n\u001b[1;32m    144\u001b[0m \u001b[38;5;28;01melif\u001b[39;00m model \u001b[38;5;129;01mis\u001b[39;00m \u001b[38;5;129;01mnot\u001b[39;00m \u001b[38;5;28;01mNone\u001b[39;00m:\n\u001b[1;32m    145\u001b[0m     \u001b[38;5;66;03m# get pipeline info from Model object\u001b[39;00m\n",
      "File \u001b[0;32m~/jiangpeiwen2/miniconda3/envs/llamaindex/lib/python3.10/site-packages/modelscope/utils/config.py:671\u001b[0m, in \u001b[0;36mcheck_config\u001b[0;34m(cfg, is_training)\u001b[0m\n\u001b[1;32m    669\u001b[0m check_attr(ConfigFields\u001b[38;5;241m.\u001b[39mframework)\n\u001b[1;32m    670\u001b[0m check_attr(ConfigFields\u001b[38;5;241m.\u001b[39mtask)\n\u001b[0;32m--> 671\u001b[0m \u001b[43mcheck_attr\u001b[49m\u001b[43m(\u001b[49m\u001b[43mConfigFields\u001b[49m\u001b[38;5;241;43m.\u001b[39;49m\u001b[43mpipeline\u001b[49m\u001b[43m)\u001b[49m\n\u001b[1;32m    673\u001b[0m \u001b[38;5;28;01mif\u001b[39;00m is_training:\n\u001b[1;32m    674\u001b[0m     check_attr(ConfigFields\u001b[38;5;241m.\u001b[39mmodel)\n",
      "File \u001b[0;32m~/jiangpeiwen2/miniconda3/envs/llamaindex/lib/python3.10/site-packages/modelscope/utils/config.py:666\u001b[0m, in \u001b[0;36mcheck_config.<locals>.check_attr\u001b[0;34m(attr_name, msg)\u001b[0m\n\u001b[1;32m    665\u001b[0m \u001b[38;5;28;01mdef\u001b[39;00m \u001b[38;5;21mcheck_attr\u001b[39m(attr_name, msg\u001b[38;5;241m=\u001b[39m\u001b[38;5;124m'\u001b[39m\u001b[38;5;124m'\u001b[39m):\n\u001b[0;32m--> 666\u001b[0m     \u001b[38;5;28;01massert\u001b[39;00m \u001b[38;5;28mhasattr\u001b[39m(cfg, attr_name), \u001b[38;5;124mf\u001b[39m\u001b[38;5;124m'\u001b[39m\u001b[38;5;124mAttribute \u001b[39m\u001b[38;5;132;01m{\u001b[39;00mattr_name\u001b[38;5;132;01m}\u001b[39;00m\u001b[38;5;124m is missing from \u001b[39m\u001b[38;5;124m'\u001b[39m \\\n\u001b[1;32m    667\u001b[0m         \u001b[38;5;124mf\u001b[39m\u001b[38;5;124m'\u001b[39m\u001b[38;5;132;01m{\u001b[39;00mModelFile\u001b[38;5;241m.\u001b[39mCONFIGURATION\u001b[38;5;132;01m}\u001b[39;00m\u001b[38;5;124m. \u001b[39m\u001b[38;5;132;01m{\u001b[39;00mmsg\u001b[38;5;132;01m}\u001b[39;00m\u001b[38;5;124m'\u001b[39m\n",
      "\u001b[0;31mAssertionError\u001b[0m: Attribute pipeline is missing from configuration.json. "
     ]
    }
   ],
   "source": [
    "hybrid_retriever_0 = CPL_Hybrid_Retriever( text, \"money\" )"
   ]
  },
  {
   "cell_type": "code",
   "execution_count": null,
   "metadata": {},
   "outputs": [
    {
     "name": "stderr",
     "output_type": "stream",
     "text": [
      "/home/jiangpeiwen2/jiangpeiwen2/miniconda3/envs/llamaindex/lib/python3.10/site-packages/transformers/modeling_utils.py:1052: FutureWarning: The `device` argument is deprecated and will be removed in v5 of Transformers.\n",
      "  warnings.warn(\n"
     ]
    }
   ],
   "source": [
    "results_list = hybrid_retriever_0.hybrid_retrieve( \"法院 (上海市第一中级人民法院)判定需返回本金总额（元）？\", \"法院 (上海市第一中级人民法院)\", \"需返回本金总额（元）\")"
   ]
  },
  {
   "cell_type": "code",
   "execution_count": null,
   "metadata": {},
   "outputs": [
    {
     "data": {
      "text/plain": [
       "['被告李安新、汪少敏于本判决生效之日起十日内归还原告贾瑞起借款256,000元',\n",
       " '借款金额50万元整',\n",
       " '同日，被告李安新出具了借据，载明：今借到贾瑞起50万元整（本金），借款期限自2015年12月3日起至2016年5月31日止，注：此款于2013年5月31日收到',\n",
       " '乙方两年内发出的所有快件（不限量）按照总公司内部价格结算，甲方给乙方韵达结算账号和密码，甲方不加任何费用，乙方自购面单价格每张2.10元，乙方所发出每票快件甲方收取0.70元']"
      ]
     },
     "execution_count": 6,
     "metadata": {},
     "output_type": "execute_result"
    }
   ],
   "source": [
    "results_list"
   ]
  },
  {
   "cell_type": "code",
   "execution_count": null,
   "metadata": {},
   "outputs": [
    {
     "name": "stderr",
     "output_type": "stream",
     "text": [
      "2024-11-06 13:33:35,119 - modelscope - INFO - Use user-specified model revision: v1.1.0\n",
      "2024-11-06 13:33:35,464 - modelscope - INFO - initiate model from /home/jiangpeiwen2/.cache/modelscope/hub/damo/nlp_rom_passage-ranking_chinese-base\n",
      "2024-11-06 13:33:35,465 - modelscope - INFO - initiate model from location /home/jiangpeiwen2/.cache/modelscope/hub/damo/nlp_rom_passage-ranking_chinese-base.\n",
      "2024-11-06 13:33:35,466 - modelscope - INFO - initialize model from /home/jiangpeiwen2/.cache/modelscope/hub/damo/nlp_rom_passage-ranking_chinese-base\n",
      "2024-11-06 13:33:37,016 - modelscope - INFO - head has no _keys_to_ignore_on_load_missing\n",
      "/home/jiangpeiwen2/jiangpeiwen2/miniconda3/envs/llamaindex/lib/python3.10/site-packages/modelscope/utils/checkpoint.py:550: FutureWarning: You are using `torch.load` with `weights_only=False` (the current default value), which uses the default pickle module implicitly. It is possible to construct malicious pickle data which will execute arbitrary code during unpickling (See https://github.com/pytorch/pytorch/blob/main/SECURITY.md#untrusted-models for more details). In a future release, the default value for `weights_only` will be flipped to `True`. This limits the functions that could be executed during unpickling. Arbitrary objects will no longer be allowed to be loaded via this mode unless they are explicitly allowlisted by the user via `torch.serialization.add_safe_globals`. We recommend you start setting `weights_only=True` for any use case where you don't have full control of the loaded file. Please open an issue on GitHub for any issues related to this experimental feature.\n",
      "  state_dict = torch.load(ckpt_file, map_location='cpu')\n",
      "2024-11-06 13:33:37,339 - modelscope - INFO - All model checkpoint weights were used when initializing BertForTextRanking.\n",
      "\n",
      "2024-11-06 13:33:37,340 - modelscope - INFO - All the weights of BertForTextRanking were initialized from the model checkpoint If your task is similar to the task the model of the checkpoint was trained on, you can already use BertForTextRanking for predictions without further training.\n",
      "/home/jiangpeiwen2/jiangpeiwen2/miniconda3/envs/llamaindex/lib/python3.10/site-packages/transformers/modeling_utils.py:1052: FutureWarning: The `device` argument is deprecated and will be removed in v5 of Transformers.\n",
      "  warnings.warn(\n"
     ]
    },
    {
     "name": "stdout",
     "output_type": "stream",
     "text": [
      "{'scores': [0.9717444777488708, 0.005540844984352589, 0.8629351854324341]}\n"
     ]
    }
   ],
   "source": [
    "\n",
    "\n",
    "print (result)\n",
    "# {'scores': [0.9717444181442261, 0.005540850106626749, 0.8629351258277893]}"
   ]
  },
  {
   "cell_type": "code",
   "execution_count": null,
   "metadata": {},
   "outputs": [
    {
     "name": "stdout",
     "output_type": "stream",
     "text": [
      "[4, 2, 0]\n"
     ]
    }
   ],
   "source": [
    "\n",
    "\n",
    "# 示例使用\n",
    "nums = [3.5, 1.2, 4.7, 2.3, 5.8, 0.9]\n",
    "k = 3\n",
    "print(top_k_indices(nums, k))  # 输出: [4, 2, 0]"
   ]
  },
  {
   "cell_type": "code",
   "execution_count": null,
   "metadata": {},
   "outputs": [],
   "source": [
    "from xinference.client import Client\n",
    "import os\n",
    "\n",
    "os.environ(\"CUDA_VISIBLE_DEVICES\") = \"0,1,2,3,4,5,\"\n",
    "\n",
    "client = Client(\"http://localhost:9997\")\n",
    "model_uid = client.launch_model(\n",
    "    model_name=\"bge-reranker-base\",\n",
    "    model_type=\"rerank\",\n",
    "    \n",
    "    )\n",
    "model = client.get_model(model_uid)\n",
    "\n",
    "print(model.rerank(['doc1', 'doc2'], 'query'))"
   ]
  }
 ],
 "metadata": {
  "kernelspec": {
   "display_name": "llamaindex",
   "language": "python",
   "name": "python3"
  },
  "language_info": {
   "codemirror_mode": {
    "name": "ipython",
    "version": 3
   },
   "file_extension": ".py",
   "mimetype": "text/x-python",
   "name": "python",
   "nbconvert_exporter": "python",
   "pygments_lexer": "ipython3",
   "version": "3.10.15"
  }
 },
 "nbformat": 4,
 "nbformat_minor": 2
}
