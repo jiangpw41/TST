{
 "cells": [
  {
   "cell_type": "code",
   "execution_count": null,
   "metadata": {},
   "outputs": [],
   "source": [
    "from wayne_utils import load_data, save_data\n",
    "import os\n",
    "\n",
    "\n",
    "_ROOT_PATH = \"/home/jiangpeiwen2/jiangpeiwen2/T-Tuple-T\"\n",
    "\n",
    "\n",
    "test_text_list = load_data( \"/home/jiangpeiwen2/jiangpeiwen2/TKGT/data/CPL/dynamic/texts_test.json\", \"json\")\n",
    "train_text_list = load_data( \"/home/jiangpeiwen2/jiangpeiwen2/TKGT/data/CPL/dynamic/texts_train.json\", \"json\")\n",
    "test_label_list = load_data( \"/home/jiangpeiwen2/jiangpeiwen2/TKGT/data/CPL/dynamic/label_test.pickle\", \"pickle\")\n",
    "train_label_list = load_data( \"/home/jiangpeiwen2/jiangpeiwen2/TKGT/data/CPL/dynamic/label_train.pickle\", \"pickle\")\n",
    "\n",
    "train_count_list = load_data( \"/home/jiangpeiwen2/jiangpeiwen2/TKGT/evaluation/CountCPL/label_count_list_train.json\", \"json\")"
   ]
  },
  {
   "cell_type": "markdown",
   "metadata": {},
   "source": [
    "## 提示词指令"
   ]
  },
  {
   "cell_type": "code",
   "execution_count": null,
   "metadata": {},
   "outputs": [],
   "source": [
    "general_instruction_22 = \"\"\"根据给定的法律文本, 请你列出下面这些实例的数量: \n",
    "1.法院名称，\n",
    "2.原告名称，\n",
    "3.被告名称，\n",
    "4.法院裁定的借款凭证，\n",
    "5.法院裁定的约定的借款金额，\n",
    "6.法院裁定的约定的还款日期或借款期限，\n",
    "7.法院裁定的约定的利息，\n",
    "8.法院裁定的约定的逾期利息，\n",
    "9.法院裁定的约定的违约金，\n",
    "10.原告诉称的借款凭证，\n",
    "11.原告诉称的约定的借款金额，\n",
    "12.原告诉称的约定的还款日期或借款期限，\n",
    "13.原告诉称的约定的利息，\n",
    "14.原告诉称的约定的逾期利息，\n",
    "15.原告诉称的约定的违约金，\n",
    "\"\"\"\n",
    "general_instruction = \"\"\"你是一名律师助手，请你根据给定的法律文本提取信息。 \"\"\"\n",
    "stage_1_instruction = \"\"\"请从以下段落中提取所有相关事件，并以（ 角色类型, 字段, 取值）的三元组形式输出所有实例，要求如下：\n",
    "（1）角色类型限定为：\"法院\" 或 \"原告\" 或 \"被告\"。\n",
    "（2）字段限定为：姓名名称、借款凭证的名称、借款凭证的所载内容、约定的借款金额的约定情况、约定的借款金额的实际发生时间、约定的借款金额的金额（元）、约定的还款日期或借款期限的约定情况、约定的还款日期或借款期限的实际发生时间、约定的还款日期或借款期限的还款日期、约定的利息的约定情况、约定的利息的实际发生时间、约定的利息的利率数值（百分比或元）、约定的逾期利息的约定情况、约定的逾期利息的实际发生时间、约定的逾期利息的利率数值（百分比或元）、约定的违约金的约定情况、约定的违约金的实际发生时间、约定的违约金的违约金数值（百分比或元）；\n",
    "（3）除了姓名名称外，上述字段需要前缀注明是第几份/次，例如，借款凭证的名称应该写为第x份借款凭证的名称，以此类推。\n",
    "（4）取值限定：所有日期相关的字段的取值格式应该为xxxx年xx月xx日，所有金额相关的取值应该统一以元为单位（如5万元应该写为50000元），约定情况只能从口头约定和书面约定中二选一，利率则取值限定为百分号前的数值。\n",
    "（5）如果文中没有事件的相关信息，则不要呈现三元组。\n",
    "现在，请提取出下面文字中所有的实例三元组：\n",
    "\"\"\""
   ]
  },
  {
   "cell_type": "code",
   "execution_count": null,
   "metadata": {},
   "outputs": [],
   "source": [
    "def prompt_construct( texts_list, labels_list, mode):\n",
    "    prompt_list = []\n",
    "    for i in range( len(texts_list)):\n",
    "        texts = texts_list[str(i)]\n",
    "        labels = labels_list[i]\n",
    "        if mode == \"test\":\n",
    "            prompt_list.append( general_instruction + stage_1_instruction + str(texts) )\n",
    "        else:\n",
    "            prompt_list.append( {\n",
    "                \"instruction\" : general_instruction,\n",
    "                \"input\" : stage_1_instruction + str(texts),\n",
    "                \"output\": str(labels)\n",
    "            })\n",
    "    return prompt_list\n",
    "\n",
    "mode = \"test\"   # \"train\"\n",
    "texts_list = test_text_list if mode == \"test\" else train_text_list\n",
    "labels_list = test_label_list if mode == \"test\" else train_label_list\n",
    "prompt_list = prompt_construct( texts_list, labels_list, mode)\n",
    "save_data( prompt_list, os.path.join( \"/home/jiangpeiwen2/jiangpeiwen2/T-Tuple-T\", \"CPL_prompt_list.pickle\"))\n",
    "\n",
    "mode = \"train\"   # \"train\"\n",
    "texts_list = test_text_list if mode == \"test\" else train_text_list\n",
    "labels_list = test_label_list if mode == \"test\" else train_label_list\n",
    "prompt_list = prompt_construct( texts_list, labels_list, mode)\n",
    "save_data( prompt_list, os.path.join( \"/home/jiangpeiwen2/jiangpeiwen2/T-Tuple-T\", \"CPL_TTT_ft_list.json\"))"
   ]
  },
  {
   "cell_type": "markdown",
   "metadata": {},
   "source": [
    "## Post and Eval"
   ]
  },
  {
   "cell_type": "code",
   "execution_count": null,
   "metadata": {},
   "outputs": [],
   "source": [
    "import re\n",
    "import os\n",
    "import sys\n",
    "_ROOT_PATH = \"/home/jiangpeiwen2/jiangpeiwen2/TKGT\"\n",
    "sys.path.insert( 0, _ROOT_PATH )\n",
    "from evaluation.Text2table.evaluate import eval_main\n",
    "\n",
    "input_string = \"这是一个包含(苹果, 香蕉, 橘子)和(狗, 猫, 鱼)等三元组的字符串\"\n",
    "def triplet_get( input_string ):\n",
    "    temp_set = set()\n",
    "    pattern = r'\\(([^,]+), ([^,]+), ([^,]+)\\)'\n",
    "    matches = re.findall(pattern, input_string)\n",
    "    for match in matches:\n",
    "        triplet = tuple(match)\n",
    "        new_triplet = ()\n",
    "        for item in triplet:\n",
    "            if item.startswith(\"'\"):\n",
    "                item = item[1:]\n",
    "            if item.endswith(\"'\"):\n",
    "                item = item[:-1]\n",
    "            new_triplet = new_triplet + (item, )\n",
    "        temp_set.add(new_triplet)\n",
    "    return temp_set\n",
    "\n",
    "model_list_table = [\n",
    "    \"ChatGLM3-6B\",\n",
    "    \"Qwen1.5-7B-Chat\",\n",
    "    \"Baichuan2-7B-Chat\",\n",
    "    \"Chinese-Mistral-7B-Instruct-v0.1\",\n",
    "    \"Qwen2.5-0.5B\",\n",
    "    \"CPL_dynamic_tabel_TTT_ChatGLM3-6B-5epoch\",\n",
    "    \"CPL_dynamic_tabel_Chinese-Mistral-7B-Instruct-v0.1-5epoch\"\n",
    "]\n",
    "scopes = model_list_table[5:6]\n",
    "scopes"
   ]
  },
  {
   "cell_type": "code",
   "execution_count": null,
   "metadata": {},
   "outputs": [],
   "source": [
    "predict_list_raw = load_data( os.path.join( \"/home/jiangpeiwen2/jiangpeiwen2/T-Tuple-T\", f\"CPL_predict_listCPL_dynamic_tabel_TTT_ChatGLM3-6B-5epoch.pickle\"), \"pickle\")"
   ]
  },
  {
   "cell_type": "code",
   "execution_count": null,
   "metadata": {},
   "outputs": [],
   "source": [
    "os.environ[\"CUDA_VISIBLE_DEVICES\"] = \"0\"\n",
    "for model_name in scopes:\n",
    "    predict_list_raw = load_data( os.path.join( \"/home/jiangpeiwen2/jiangpeiwen2/T-Tuple-T\", f\"CPL_predict_list{model_name}.pickle\"), \"pickle\")\n",
    "    labels_list = load_data( \"/home/jiangpeiwen2/jiangpeiwen2/TKGT/data/CPL/dynamic/label_test.pickle\", \"pickle\")\n",
    "    predict_lists = []\n",
    "    for i in range( len(predict_list_raw)):\n",
    "        predict_lists.append( triplet_get( predict_list_raw[i][0] ) )\n",
    "    results_save_path = \"/home/jiangpeiwen2/jiangpeiwen2/TKGT/evaluation/CountCPL/results.json\"\n",
    "    save_data( predict_lists, os.path.join( \"/home/jiangpeiwen2/jiangpeiwen2/T-Tuple-T\", f\"CPL_predict_list_filter_{model_name}.pickle\"))\n",
    "    save_data( (labels_list, predict_lists), os.path.join( \"/home/jiangpeiwen2/jiangpeiwen2/T-Tuple-T\", f\"CPL_pair_filter_{model_name}.pickle\"))\n",
    "    print( model_name )\n",
    "    eval_main( f\"CPL_dynamic_TTT_{model_name}\", (labels_list, predict_lists), results_save_path, \"multi_entity\" )"
   ]
  }
 ],
 "metadata": {
  "kernelspec": {
   "display_name": "tkgt2",
   "language": "python",
   "name": "python3"
  },
  "language_info": {
   "codemirror_mode": {
    "name": "ipython",
    "version": 3
   },
   "file_extension": ".py",
   "mimetype": "text/x-python",
   "name": "python",
   "nbconvert_exporter": "python",
   "pygments_lexer": "ipython3",
   "version": "3.10.13"
  }
 },
 "nbformat": 4,
 "nbformat_minor": 2
}
