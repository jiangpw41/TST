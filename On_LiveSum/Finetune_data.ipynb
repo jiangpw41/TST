{
 "cells": [
  {
   "cell_type": "code",
   "execution_count": null,
   "metadata": {},
   "outputs": [],
   "source": [
    "from wayne_utils import load_data, save_data\n",
    "import os\n",
    "import sys\n",
    "from tools.utils import points_dict, get_chunk\n",
    "\n",
    "teams = [\"home team\", \"away team\"]\n",
    "\n",
    "_Data_PATH = \"workspace/T-Tuple-T\"\n",
    "\n",
    "test_path = os.path.join( _Data_PATH, \"data/test.json\")\n",
    "train_path = os.path.join( _Data_PATH, \"data/train.json\")\n",
    "\n",
    "_ROOT_PATH = \"workspace/TKGT\"\n",
    "test_list = load_data( test_path, \"json\")           # 754\n",
    "train_list = load_data( train_path, \"json\")         # 3017\n",
    "\n",
    "score_instruction = \"\"\"You are an information extraction expert, please extract the football game final scores from context.\n",
    "\"\"\"\n",
    "score_input = \"\"\"You should only return the scores of home team vs away team in format like \"1-2\" without other word.\n",
    "Context: {Context}\n",
    "Question: What is the final scores?\n",
    "Answer:\n",
    "\"\"\"\n",
    "\n",
    "other_instruction = \"\"\"You are an information extraction expert, please judge whether the home or away team has scored at a certain technical point according to the context.\n",
    "You should only return 'yes' or 'no'.\n",
    "\"\"\"\n",
    "other_input = \"\"\"Context: {Context}\n",
    "Question: Does the {Team} have a {Field}?\n",
    "Answer:\n",
    "\"\"\"\n",
    "def construct_prompt(  context, answer , score = True, team = None, field = None):\n",
    "    temp = {}\n",
    "    if score:\n",
    "        temp[\"instruction\"] = score_instruction\n",
    "        temp[\"input\"] = score_input.format( Context = context)\n",
    "    else:\n",
    "        temp[\"instruction\"] = other_instruction\n",
    "        temp[\"input\"] = other_input.format( Context = context, Team = team, Field = field )\n",
    "    temp[\"output\"] = answer\n",
    "    return temp"
   ]
  },
  {
   "cell_type": "markdown",
   "metadata": {},
   "source": [
    "# 下面构建一个文档的prompt"
   ]
  },
  {
   "cell_type": "markdown",
   "metadata": {},
   "source": [
    "## 构建比分提示词"
   ]
  },
  {
   "cell_type": "code",
   "execution_count": 124,
   "metadata": {},
   "outputs": [],
   "source": [
    "def get_vs_from_table( table ):\n",
    "    post_ = table.split( \"Away Team,\")[1]\n",
    "    Away_Team = post_.split( \"<NEWLINE>Home Team,\")[0].strip()\n",
    "    Home_Team = post_.split( \"<NEWLINE>Home Team,\")[1].strip()\n",
    "    home_score = Home_Team.split( \",\")[0]\n",
    "    away_score = Away_Team.split( \",\")[0]\n",
    "    return f\"{home_score}-{away_score}\"\n",
    "\n",
    "def get_vs_score_prompt( text_list, table ):\n",
    "    vs_output = get_vs_from_table( table )\n",
    "    vs_context = text_list[-2: ]\n",
    "    _prompt = construct_prompt( vs_context, vs_output)\n",
    "    return _prompt\n",
    "\n",
    "# 追加保存\n",
    "def append_ft( _new_json ):\n",
    "    ft_path = os.path.join( _ROOT_PATH, \"ft_data.json\")\n",
    "    json_data = load_data( ft_path , \"json\")\n",
    "    json_data.append( _new_json )\n",
    "    print( f\"当前长度{len(json_data)}\")\n",
    "    save_data( json_data, ft_path)\n",
    "\n",
    "vs_ft_list = [] \n",
    "for index in range(200):\n",
    "    text = train_list[index]['text']\n",
    "    table = train_list[index]['table']\n",
    "    text_list = get_chunk( text )\n",
    "    vs_prompt = get_vs_score_prompt( text_list, table )\n",
    "    vs_ft_list.append( vs_prompt )\n",
    "\n",
    "save_data( vs_ft_list, os.path.join( _ROOT_PATH, \"test/LiveSum/ft_data_vs.json\"))"
   ]
  },
  {
   "cell_type": "markdown",
   "metadata": {},
   "source": [
    "## 构建其他指标提示词"
   ]
  },
  {
   "cell_type": "code",
   "execution_count": 29,
   "metadata": {},
   "outputs": [],
   "source": [
    "def get_other_prompt( text_list ):\n",
    "    single_prompts = []\n",
    "    for sub_index in range(len(text_list)):\n",
    "        line = text_list[sub_index].lower()\n",
    "        for team_name in teams:\n",
    "            if team_name in line:\n",
    "                for key in points_dict.keys():\n",
    "                    for point in points_dict[key]:\n",
    "                        if point in line:\n",
    "                            # 队名和字段都在\n",
    "                            context = text_list[sub_index]\n",
    "                            answer = \"\"\n",
    "                            prompt = construct_prompt(  context, answer , False, team = team_name, field = key)\n",
    "                            single_prompts.append( prompt )\n",
    "                            break\n",
    "    return single_prompts\n",
    "\n",
    "other_ft_list = []\n",
    "index = 500\n",
    "text = train_list[index]['text']\n",
    "table = train_list[index]['table']\n",
    "text_list = get_chunk( text )\n",
    "\n",
    "single_prompts = get_other_prompt( text_list )"
   ]
  },
  {
   "cell_type": "code",
   "execution_count": 31,
   "metadata": {},
   "outputs": [],
   "source": [
    "answer_0 = [                                                                        # 111\n",
    "    \"yes\", \"no\", \"no\", \"yes\", \"yes\", \"yes\", \"yes\", \"yes\", \"yes\", \"yes\",             # 0:10\n",
    "    \"yes\", \"no\", \"yes\", \"yes\", \"no\", \"yes\", \"yes\", \"yes\", \"yes\", \"yes\", \n",
    "    \"yes\", \"yes\", \"yes\", \"yes\", \"yes\", \"yes\", \"yes\", \"no\", \"no\", \"yes\", \n",
    "    \"yes\", \"yes\", \"no\", \"yes\", \"no\", \"yes\", \"yes\", \"yes\", \"yes\", \"yes\", \n",
    "    \"yes\", \"yes\", \"yes\", \"no\", \"yes\", \"yes\", \"no\", \"yes\", \"yes\", \"no\", \n",
    "    \"yes\", \"no\", \"no\", \"no\", \"yes\", \"no\", \"no\", \"yes\", \"yes\", \"yes\",                # 50:60\n",
    "    \"no\", \"no\", \"yes\", \"yes\", \"yes\", \"yes\", \"yes\", \"yes\", \"yes\", \"yes\",\n",
    "    \"yes\", \"yes\", \"yes\", \"no\", \"yes\", \"no\", \"no\", \"yes\", \"yes\", \"yes\",\n",
    "    \"yes\", \"yes\", \"yes\", \"yes\", \"yes\", \"yes\", \"no\", \"yes\", \"yes\", \"no\",\n",
    "    \"yes\", \"yes\", \"yes\", \"yes\", \"yes\", \"yes\", \"yes\", \"no\", \"no\", \"yes\",           # 90:100\n",
    "    \"no\", \"yes\", \"yes\", \"no\", \"yes\", \"yes\", \"yes\", \"yes\", \"no\", \"no\",\n",
    "    \"yes\",\n",
    "]"
   ]
  },
  {
   "cell_type": "code",
   "execution_count": 50,
   "metadata": {},
   "outputs": [],
   "source": [
    "answer_500 = [                                                                        # 119\n",
    "    \"yes\", \"no\", \"no\", \"yes\", \"yes\", \"yes\", \"yes\", \"yes\", \"yes\", \"no\",             # 0:10\n",
    "    \"yes\", \"yes\", \"no\", \"yes\", \"yes\", \"yes\", \"yes\", \"yes\", \"yes\", \"yes\",\n",
    "    \"yes\", \"no\", \"no\", \"yes\", \"no\", \"yes\", \"yes\", \"no\", \"yes\", \"yes\",\n",
    "    \"yes\", \"no\", \"yes\", \"yes\", \"no\", \"yes\", \"yes\", \"yes\", \"yes\", \"yes\",          # 30:40\n",
    "    \"yes\", \"yes\", \"yes\", \"yes\", \"yes\", \"yes\", \"yes\", \"yes\", \"no\", \"no\",\n",
    "    \"yes\", \"yes\", \"yes\", \"yes\", \"no\", \"yes\", \"yes\", \"no\", \"yes\", \"yes\", \n",
    "    \"yes\", \"yes\", \"yes\", \"no\", \"yes\", \"yes\", \"no\", \"yes\", \"no\", \"no\",        # 60:70\n",
    "    \"yes\", \"yes\", \"yes\", \"yes\", \"yes\", \"yes\", \"no\", \"no\", \"yes\", \"yes\",\n",
    "    \"yes\", \"yes\", \"yes\", \"yes\", \"yes\", \"yes\", \"yes\", \"yes\", \"no\", \"yes\",\n",
    "    \"yes\", \"no\", \"yes\", \"no\", \"yes\", \"yes\", \"no\", \"yes\", \"yes\", \"yes\",\n",
    "    \"yes\", \"yes\", \"yes\", \"no\", \"yes\", \"yes\", \"yes\", \"yes\", \"yes\", \"yes\",    # 100:110\n",
    "    \"no\", \"yes\", \"yes\", \"no\", \"yes\", \"yes\", \"yes\", \"no\", \"no\",\n",
    "]"
   ]
  },
  {
   "cell_type": "code",
   "execution_count": 47,
   "metadata": {},
   "outputs": [
    {
     "name": "stdout",
     "output_type": "stream",
     "text": [
      "1\n",
      "Context: Player8(Home Team) earns a free kick on the left wing after a foul by Player34(Away Team)\n",
      "Question: Does the home team have a foul?\n",
      "Answer:\n",
      "\n",
      "2\n",
      "Context: Player8(Home Team) earns a free kick on the left wing after a foul by Player34(Away Team)\n",
      "Question: Does the home team have a free kick?\n",
      "Answer:\n",
      "\n",
      "3\n",
      "Context: Player8(Home Team) earns a free kick on the left wing after a foul by Player34(Away Team)\n",
      "Question: Does the away team have a foul?\n",
      "Answer:\n",
      "\n",
      "4\n",
      "Context: Player8(Home Team) earns a free kick on the left wing after a foul by Player34(Away Team)\n",
      "Question: Does the away team have a free kick?\n",
      "Answer:\n",
      "\n",
      "5\n",
      "Context: Player4(Home Team) of the Home Team attempts a through ball, but Player8(Home Team) is offside\n",
      "Question: Does the home team have a offside?\n",
      "Answer:\n",
      "\n",
      "6\n",
      "Context: Player28(Away Team) misses the target with a high right-footed shot from outside the box, assisted by Player31(Away Team)\n",
      "Question: Does the away team have a shot?\n",
      "Answer:\n",
      "\n",
      "7\n",
      "Context: Player28(Away Team) misses the target with a high right-footed shot from the center of the box, assisted by Player31(Away Team)\n",
      "Question: Does the away team have a shot?\n",
      "Answer:\n",
      "\n",
      "8\n",
      "Context: The home team finishes the second half scoreless, while the away team holds the lead with one goal\n",
      "Question: Does the home team have a shot?\n",
      "Answer:\n",
      "\n",
      "9\n",
      "Context: The home team finishes the second half scoreless, while the away team holds the lead with one goal\n",
      "Question: Does the away team have a shot?\n",
      "Answer:\n",
      "\n"
     ]
    }
   ],
   "source": [
    "def show_input( single_prompts ):\n",
    "    for i in range( len(single_prompts) ):\n",
    "        print(i+1)\n",
    "        print(single_prompts[i][\"input\"]  )\n",
    "\n",
    "\n",
    "show_input( single_prompts[110:120] )"
   ]
  },
  {
   "cell_type": "code",
   "execution_count": 52,
   "metadata": {},
   "outputs": [],
   "source": [
    "def ans( single_prompts, answer ):\n",
    "    if len( single_prompts) != len(answer):\n",
    "        raise Exception( \"长度不一致\")\n",
    "    for i in range( len(single_prompts) ):\n",
    "        single_prompts[i][\"output\"] = answer[i]\n",
    "    return single_prompts\n",
    "\n",
    "new_single_prompts = ans( single_prompts, answer_500 )\n",
    "save_data( new_single_prompts, os.path.join( _ROOT_PATH, \"test/LiveSum/ft_data_500.json\"))"
   ]
  },
  {
   "cell_type": "code",
   "execution_count": 59,
   "metadata": {},
   "outputs": [],
   "source": [
    "merge_ft = []\n",
    "ft_data_500 = load_data( os.path.join( _ROOT_PATH, \"test/LiveSum/ft_data_500.json\"), \"json\")\n",
    "ft_data_1 = load_data( os.path.join( _ROOT_PATH, \"test/LiveSum/ft_data_1.json\"), \"json\")\n",
    "ft_data_vs = load_data( os.path.join( _ROOT_PATH, \"test/LiveSum/ft_data_vs.json\"), \"json\")\n",
    "\n",
    "merge_ft.extend( ft_data_500 )\n",
    "merge_ft.extend( ft_data_1 )\n",
    "merge_ft.extend( ft_data_vs )"
   ]
  },
  {
   "cell_type": "code",
   "execution_count": 61,
   "metadata": {},
   "outputs": [
    {
     "data": {
      "text/plain": [
       "430"
      ]
     },
     "execution_count": 61,
     "metadata": {},
     "output_type": "execute_result"
    }
   ],
   "source": [
    "len(merge_ft)"
   ]
  },
  {
   "cell_type": "code",
   "execution_count": 62,
   "metadata": {},
   "outputs": [],
   "source": [
    "save_data( merge_ft, os.path.join( _ROOT_PATH, \"test/LiveSum/ft_data_all_430.json\"))"
   ]
  }
 ],
 "metadata": {
  "kernelspec": {
   "display_name": "vllm",
   "language": "python",
   "name": "python3"
  },
  "language_info": {
   "codemirror_mode": {
    "name": "ipython",
    "version": 3
   },
   "file_extension": ".py",
   "mimetype": "text/x-python",
   "name": "python",
   "nbconvert_exporter": "python",
   "pygments_lexer": "ipython3",
   "version": "3.9.18"
  }
 },
 "nbformat": 4,
 "nbformat_minor": 2
}
