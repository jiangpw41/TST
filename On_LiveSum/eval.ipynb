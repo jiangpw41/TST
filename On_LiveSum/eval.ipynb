{
 "cells": [
  {
   "cell_type": "code",
   "execution_count": null,
   "metadata": {},
   "outputs": [],
   "source": [
    "from wayne_utils import load_data, save_data\n",
    "from datetime import datetime\n",
    "import os\n",
    "import sys\n",
    "\n",
    "_ROOT_PATH = \"workspace/TKGT\"\n",
    "_OUTPUT_PATH = os.path.join( _ROOT_PATH, \"test/LiveSum/v2/predict\")\n",
    "sys.path.insert(0, _ROOT_PATH )\n",
    "from evaluation.LiveSum.evaluate import Evaluate"
   ]
  },
  {
   "cell_type": "code",
   "execution_count": null,
   "metadata": {},
   "outputs": [],
   "source": [
    "# TTT\n",
    "_ROOT_PATH = \"workspace/T-Tuple-T\"\n",
    "_OUTPUT_PATH = os.path.join( _ROOT_PATH, \"predict\")"
   ]
  },
  {
   "cell_type": "code",
   "execution_count": null,
   "metadata": {},
   "outputs": [],
   "source": [
    "def result2dic( series_result, error_rate):\n",
    "    temp = {}\n",
    "    for key in series_result.keys():\n",
    "        temp[key] = series_result[key]\n",
    "    for key in error_rate:\n",
    "        temp[key] = error_rate[key]\n",
    "    return temp\n",
    "\n",
    "\n",
    "result, error_rate = Evaluate( os.path.join( _ROOT_PATH, \"data\"), _OUTPUT_PATH)\n",
    "series_result = result.describe().loc[\"mean\"]\n",
    "print( series_result )"
   ]
  },
  {
   "cell_type": "code",
   "execution_count": null,
   "metadata": {},
   "outputs": [],
   "source": [
    "# 保存\n",
    "result_log_path = os.path.join( \"workspace/TKGT\", \"evaluation/LiveSum/results.json\")\n",
    "results_log = load_data(result_log_path, \"json\")\n",
    "Special_name = \"All zero\"\n",
    "now = datetime.now()\n",
    "human_readable_time = now.strftime(\"%Y-%m-%d %H:%M:%S\") \n",
    "results_log[ f\"{Special_name}_{human_readable_time}\" ] = result2dic( series_result, error_rate )\n",
    "save_data( results_log, result_log_path)"
   ]
  }
 ],
 "metadata": {
  "kernelspec": {
   "display_name": "tkgt2",
   "language": "python",
   "name": "python3"
  },
  "language_info": {
   "codemirror_mode": {
    "name": "ipython",
    "version": 3
   },
   "file_extension": ".py",
   "mimetype": "text/x-python",
   "name": "python",
   "nbconvert_exporter": "python",
   "pygments_lexer": "ipython3",
   "version": "3.10.13"
  }
 },
 "nbformat": 4,
 "nbformat_minor": 2
}
