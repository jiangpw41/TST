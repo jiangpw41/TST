{
 "cells": [
  {
   "cell_type": "code",
   "execution_count": 1,
   "metadata": {},
   "outputs": [],
   "source": [
    "from wayne_utils import load_data, save_data\n",
    "from datetime import datetime\n",
    "import os\n",
    "import sys\n",
    "\n",
    "_ROOT_PATH = \"/home/jiangpeiwen2/jiangpeiwen2/TKGT\"\n",
    "_OUTPUT_PATH = os.path.join( _ROOT_PATH, \"test/LiveSum/v2/predict\")\n",
    "sys.path.insert(0, _ROOT_PATH )\n",
    "from evaluation.LiveSum.evaluate import Evaluate"
   ]
  },
  {
   "cell_type": "code",
   "execution_count": 2,
   "metadata": {},
   "outputs": [],
   "source": [
    "# TTT\n",
    "_ROOT_PATH = \"/home/jiangpeiwen2/jiangpeiwen2/T-Tuple-T\"\n",
    "_OUTPUT_PATH = os.path.join( _ROOT_PATH, \"predict\")"
   ]
  },
  {
   "cell_type": "code",
   "execution_count": 4,
   "metadata": {},
   "outputs": [
    {
     "name": "stdout",
     "output_type": "stream",
     "text": [
      "test 754 tables for /home/jiangpeiwen2/jiangpeiwen2/T-Tuple-T/predict\n",
      "Error rate = 38.06366047745358 90.18567639257294 99.96684350132627 79.60046419098143\n",
      "Easy-RMSE       1.192020\n",
      "Easy-MAE        0.721485\n",
      "Easy-EM        38.063660\n",
      "Medium-RMSE     6.303766\n",
      "Medium-MAE      4.785477\n",
      "Medium-EM      90.185676\n",
      "Hard-RMSE      12.360666\n",
      "Hard-MAE       11.618037\n",
      "Hard-EM        99.966844\n",
      "AVG-RMSE        7.674698\n",
      "AVG-MAE         5.477619\n",
      "AVG-EM         79.600464\n",
      "Name: mean, dtype: float64\n"
     ]
    }
   ],
   "source": [
    "def result2dic( series_result, error_rate):\n",
    "    temp = {}\n",
    "    for key in series_result.keys():\n",
    "        temp[key] = series_result[key]\n",
    "    for key in error_rate:\n",
    "        temp[key] = error_rate[key]\n",
    "    return temp\n",
    "\n",
    "\n",
    "result, error_rate = Evaluate( os.path.join( _ROOT_PATH, \"data\"), _OUTPUT_PATH)\n",
    "series_result = result.describe().loc[\"mean\"]\n",
    "print( series_result )"
   ]
  },
  {
   "cell_type": "code",
   "execution_count": 5,
   "metadata": {},
   "outputs": [],
   "source": [
    "# 保存\n",
    "result_log_path = os.path.join( \"/home/jiangpeiwen2/jiangpeiwen2/TKGT\", \"evaluation/LiveSum/results.json\")\n",
    "results_log = load_data(result_log_path, \"json\")\n",
    "Special_name = \"All zero\"\n",
    "now = datetime.now()\n",
    "human_readable_time = now.strftime(\"%Y-%m-%d %H:%M:%S\") \n",
    "results_log[ f\"{Special_name}_{human_readable_time}\" ] = result2dic( series_result, error_rate )\n",
    "save_data( results_log, result_log_path)"
   ]
  }
 ],
 "metadata": {
  "kernelspec": {
   "display_name": "tkgt2",
   "language": "python",
   "name": "python3"
  },
  "language_info": {
   "codemirror_mode": {
    "name": "ipython",
    "version": 3
   },
   "file_extension": ".py",
   "mimetype": "text/x-python",
   "name": "python",
   "nbconvert_exporter": "python",
   "pygments_lexer": "ipython3",
   "version": "3.10.13"
  }
 },
 "nbformat": 4,
 "nbformat_minor": 2
}
