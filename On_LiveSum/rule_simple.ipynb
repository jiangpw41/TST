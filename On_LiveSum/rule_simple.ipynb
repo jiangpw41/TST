{
 "cells": [
  {
   "cell_type": "code",
   "execution_count": null,
   "metadata": {},
   "outputs": [],
   "source": [
    "from wayne_utils import load_data, save_data\n",
    "import os\n",
    "import sys\n",
    "import pandas as pd\n",
    "from tqdm import tqdm\n",
    "\n",
    "_ROOT_PATH = \"workspace/TKGT\"\n",
    "_OUTPUT_PATH = os.path.join( _ROOT_PATH, \"test/LiveSum/v1\")\n",
    "\n",
    "test_path = os.path.join( _ROOT_PATH, \"data/LiveSum/test.json\")\n",
    "train_path = os.path.join( _ROOT_PATH, \"data/LiveSum/train.json\")\n",
    "\n",
    "test_list = load_data( test_path, \"json\")           # 754\n",
    "train_list = load_data( train_path, \"json\")         # 3017"
   ]
  },
  {
   "cell_type": "markdown",
   "metadata": {},
   "source": [
    "# Pure-Rule预测"
   ]
  },
  {
   "cell_type": "code",
   "execution_count": null,
   "metadata": {},
   "outputs": [],
   "source": [
    "## Rule\n",
    "from tools.live_sum_rule import main_rule\n",
    "main_rule( test_list, _OUTPUT_PATH)"
   ]
  },
  {
   "cell_type": "markdown",
   "metadata": {},
   "source": [
    "# Rule+llm"
   ]
  },
  {
   "cell_type": "code",
   "execution_count": null,
   "metadata": {},
   "outputs": [],
   "source": [
    "from tools.live_sum_rag import get_prompt, post_process\n",
    "from llm_inferencer import Register, Inferencer\n",
    "save_path = os.path.join( _ROOT_PATH, \"test/LiveSum/v2\")\n",
    "''''''\n",
    "get_prompt( test_list, save_path )                          # 准备提示词\n",
    "reg = Register()\n",
    "reg.list_models()"
   ]
  },
  {
   "cell_type": "code",
   "execution_count": null,
   "metadata": {},
   "outputs": [],
   "source": [
    "aaa = load_data( \"workspace/TKGT/test/LiveSum/v2/prompt_list_only.pickle\", \"pickle\")"
   ]
  },
  {
   "cell_type": "code",
   "execution_count": null,
   "metadata": {},
   "outputs": [],
   "source": [
    "len(aaa[0][0])"
   ]
  },
  {
   "cell_type": "code",
   "execution_count": null,
   "metadata": {},
   "outputs": [],
   "source": [
    "reg.add_local_model( \"Qwen1.5-7B-Chat-livesum-30epoch\", \"workspace/TKGT/test/LiveSum/v1/models/4\")"
   ]
  },
  {
   "cell_type": "code",
   "execution_count": null,
   "metadata": {},
   "outputs": [],
   "source": [
    "kwargs = {}\n",
    "prompt_list_from_path = os.path.join( save_path, \"prompt_list_only.pickle\")\n",
    "kwargs[\"local_or_remote\"] = \"local\"\n",
    "kwargs[\"server_or_reader\"] = \"reader\"\n",
    "kwargs[\"model_name\"] = \"Qwen1.5-7B-Chat-livesum-30epoch\"\n",
    "kwargs[\"gpu_list\"] = \"0,1,2,3,4,5\"\n",
    "kwargs[\"local_engine\"] = \"vllm\"\n",
    "if prompt_list_from_path != None:\n",
    "    kwargs[\"prompt_list_from_path\"] = prompt_list_from_path\n",
    "    kwargs[\"predict_list_to_path\"] = prompt_list_from_path.replace( \"prompt_list_only.pickle\", \"predict_lists_rule.pickle\")\n",
    "    kwargs[\"sample_little\"] = None\n",
    "inferencer = Inferencer( kwargs )"
   ]
  },
  {
   "cell_type": "code",
   "execution_count": null,
   "metadata": {},
   "outputs": [],
   "source": [
    "# 后处理\n",
    "save_path = \"workspace/TKGT/test/LiveSum/v2\"\n",
    "test_data_path = \"workspace/TKGT/data/LiveSum/test.json\"\n",
    "post_process( save_path, test_data_path)"
   ]
  }
 ],
 "metadata": {
  "kernelspec": {
   "display_name": "vllm",
   "language": "python",
   "name": "python3"
  },
  "language_info": {
   "codemirror_mode": {
    "name": "ipython",
    "version": 3
   },
   "file_extension": ".py",
   "mimetype": "text/x-python",
   "name": "python",
   "nbconvert_exporter": "python",
   "pygments_lexer": "ipython3",
   "version": "3.9.18"
  }
 },
 "nbformat": 4,
 "nbformat_minor": 2
}
